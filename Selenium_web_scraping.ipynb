{
 "cells": [
  {
   "cell_type": "code",
   "execution_count": 2,
   "metadata": {},
   "outputs": [
    {
     "name": "stdout",
     "output_type": "stream",
     "text": [
      "Requirement already satisfied: selenium in c:\\users\\hp\\appdata\\local\\programs\\python\\python312\\lib\\site-packages (4.25.0)\n",
      "Requirement already satisfied: urllib3<3,>=1.26 in c:\\users\\hp\\appdata\\local\\programs\\python\\python312\\lib\\site-packages (from urllib3[socks]<3,>=1.26->selenium) (2.2.2)\n",
      "Requirement already satisfied: trio~=0.17 in c:\\users\\hp\\appdata\\local\\programs\\python\\python312\\lib\\site-packages (from selenium) (0.26.2)\n",
      "Requirement already satisfied: trio-websocket~=0.9 in c:\\users\\hp\\appdata\\local\\programs\\python\\python312\\lib\\site-packages (from selenium) (0.11.1)\n",
      "Requirement already satisfied: certifi>=2021.10.8 in c:\\users\\hp\\appdata\\local\\programs\\python\\python312\\lib\\site-packages (from selenium) (2024.7.4)\n",
      "Requirement already satisfied: typing_extensions~=4.9 in c:\\users\\hp\\appdata\\local\\programs\\python\\python312\\lib\\site-packages (from selenium) (4.12.2)\n",
      "Requirement already satisfied: websocket-client~=1.8 in c:\\users\\hp\\appdata\\local\\programs\\python\\python312\\lib\\site-packages (from selenium) (1.8.0)\n",
      "Requirement already satisfied: attrs>=23.2.0 in c:\\users\\hp\\appdata\\local\\programs\\python\\python312\\lib\\site-packages (from trio~=0.17->selenium) (23.2.0)\n",
      "Requirement already satisfied: sortedcontainers in c:\\users\\hp\\appdata\\local\\programs\\python\\python312\\lib\\site-packages (from trio~=0.17->selenium) (2.4.0)\n",
      "Requirement already satisfied: idna in c:\\users\\hp\\appdata\\local\\programs\\python\\python312\\lib\\site-packages (from trio~=0.17->selenium) (3.7)\n",
      "Requirement already satisfied: outcome in c:\\users\\hp\\appdata\\local\\programs\\python\\python312\\lib\\site-packages (from trio~=0.17->selenium) (1.3.0.post0)\n",
      "Requirement already satisfied: sniffio>=1.3.0 in c:\\users\\hp\\appdata\\local\\programs\\python\\python312\\lib\\site-packages (from trio~=0.17->selenium) (1.3.1)\n",
      "Requirement already satisfied: cffi>=1.14 in c:\\users\\hp\\appdata\\local\\programs\\python\\python312\\lib\\site-packages (from trio~=0.17->selenium) (1.16.0)\n",
      "Requirement already satisfied: wsproto>=0.14 in c:\\users\\hp\\appdata\\local\\programs\\python\\python312\\lib\\site-packages (from trio-websocket~=0.9->selenium) (1.2.0)\n",
      "Requirement already satisfied: pysocks!=1.5.7,<2.0,>=1.5.6 in c:\\users\\hp\\appdata\\local\\programs\\python\\python312\\lib\\site-packages (from urllib3[socks]<3,>=1.26->selenium) (1.7.1)\n",
      "Requirement already satisfied: pycparser in c:\\users\\hp\\appdata\\local\\programs\\python\\python312\\lib\\site-packages (from cffi>=1.14->trio~=0.17->selenium) (2.22)\n",
      "Requirement already satisfied: h11<1,>=0.9.0 in c:\\users\\hp\\appdata\\local\\programs\\python\\python312\\lib\\site-packages (from wsproto>=0.14->trio-websocket~=0.9->selenium) (0.14.0)\n",
      "Note: you may need to restart the kernel to use updated packages.\n"
     ]
    },
    {
     "name": "stderr",
     "output_type": "stream",
     "text": [
      "\n",
      "[notice] A new release of pip is available: 24.0 -> 24.2\n",
      "[notice] To update, run: python.exe -m pip install --upgrade pip\n"
     ]
    }
   ],
   "source": [
    "pip install selenium"
   ]
  },
  {
   "cell_type": "code",
   "execution_count": 3,
   "metadata": {},
   "outputs": [
    {
     "name": "stdout",
     "output_type": "stream",
     "text": [
      "Requirement already satisfied: django in c:\\users\\hp\\appdata\\local\\programs\\python\\python312\\lib\\site-packages (5.1.2)\n",
      "Requirement already satisfied: asgiref<4,>=3.8.1 in c:\\users\\hp\\appdata\\local\\programs\\python\\python312\\lib\\site-packages (from django) (3.8.1)\n",
      "Requirement already satisfied: sqlparse>=0.3.1 in c:\\users\\hp\\appdata\\local\\programs\\python\\python312\\lib\\site-packages (from django) (0.5.1)\n",
      "Requirement already satisfied: tzdata in c:\\users\\hp\\appdata\\local\\programs\\python\\python312\\lib\\site-packages (from django) (2024.2)\n",
      "Note: you may need to restart the kernel to use updated packages.\n"
     ]
    },
    {
     "name": "stderr",
     "output_type": "stream",
     "text": [
      "\n",
      "[notice] A new release of pip is available: 24.0 -> 24.2\n",
      "[notice] To update, run: python.exe -m pip install --upgrade pip\n"
     ]
    }
   ],
   "source": [
    "pip install django"
   ]
  },
  {
   "cell_type": "code",
   "execution_count": 4,
   "metadata": {},
   "outputs": [
    {
     "name": "stdout",
     "output_type": "stream",
     "text": [
      "['Andorra', 'United Arab Emirates', 'Afghanistan', 'Antigua and Barbuda', 'Anguilla', 'Albania', 'Armenia', 'Angola', 'Antarctica', 'Argentina', 'American Samoa', 'Austria', 'Australia', 'Aruba', 'Åland', 'Azerbaijan', 'Bosnia and Herzegovina', 'Barbados', 'Bangladesh', 'Belgium', 'Burkina Faso', 'Bulgaria', 'Bahrain', 'Burundi', 'Benin', 'Saint Barthélemy', 'Bermuda', 'Brunei', 'Bolivia', 'Bonaire', 'Brazil', 'Bahamas', 'Bhutan', 'Bouvet Island', 'Botswana', 'Belarus', 'Belize', 'Canada', 'Cocos [Keeling] Islands', 'Democratic Republic of the Congo', 'Central African Republic', 'Republic of the Congo', 'Switzerland', 'Ivory Coast', 'Cook Islands', 'Chile', 'Cameroon', 'China', 'Colombia', 'Costa Rica', 'Cuba', 'Cape Verde', 'Curacao', 'Christmas Island', 'Cyprus', 'Czech Republic', 'Germany', 'Djibouti', 'Denmark', 'Dominica', 'Dominican Republic', 'Algeria', 'Ecuador', 'Estonia', 'Egypt', 'Western Sahara', 'Eritrea', 'Spain', 'Ethiopia', 'Finland', 'Fiji', 'Falkland Islands', 'Micronesia', 'Faroe Islands', 'France', 'Gabon', 'United Kingdom', 'Grenada', 'Georgia', 'French Guiana', 'Guernsey', 'Ghana', 'Gibraltar', 'Greenland', 'Gambia', 'Guinea', 'Guadeloupe', 'Equatorial Guinea', 'Greece', 'South Georgia and the South Sandwich Islands', 'Guatemala', 'Guam', 'Guinea-Bissau', 'Guyana', 'Hong Kong', 'Heard Island and McDonald Islands', 'Honduras', 'Croatia', 'Haiti', 'Hungary', 'Indonesia', 'Ireland', 'Israel', 'Isle of Man', 'India', 'British Indian Ocean Territory', 'Iraq', 'Iran', 'Iceland', 'Italy', 'Jersey', 'Jamaica', 'Jordan', 'Japan', 'Kenya', 'Kyrgyzstan', 'Cambodia', 'Kiribati', 'Comoros', 'Saint Kitts and Nevis', 'North Korea', 'South Korea', 'Kuwait', 'Cayman Islands', 'Kazakhstan', 'Laos', 'Lebanon', 'Saint Lucia', 'Liechtenstein', 'Sri Lanka', 'Liberia', 'Lesotho', 'Lithuania', 'Luxembourg', 'Latvia', 'Libya', 'Morocco', 'Monaco', 'Moldova', 'Montenegro', 'Saint Martin', 'Madagascar', 'Marshall Islands', 'Macedonia', 'Mali', 'Myanmar [Burma]', 'Mongolia', 'Macao', 'Northern Mariana Islands', 'Martinique', 'Mauritania', 'Montserrat', 'Malta', 'Mauritius', 'Maldives', 'Malawi', 'Mexico', 'Malaysia', 'Mozambique', 'Namibia', 'New Caledonia', 'Niger', 'Norfolk Island', 'Nigeria', 'Nicaragua', 'Netherlands', 'Norway', 'Nepal', 'Nauru', 'Niue', 'New Zealand', 'Oman', 'Panama', 'Peru', 'French Polynesia', 'Papua New Guinea', 'Philippines', 'Pakistan', 'Poland', 'Saint Pierre and Miquelon', 'Pitcairn Islands', 'Puerto Rico', 'Palestine', 'Portugal', 'Palau', 'Paraguay', 'Qatar', 'Réunion', 'Romania', 'Serbia', 'Russia', 'Rwanda', 'Saudi Arabia', 'Solomon Islands', 'Seychelles', 'Sudan', 'Sweden', 'Singapore', 'Saint Helena', 'Slovenia', 'Svalbard and Jan Mayen', 'Slovakia', 'Sierra Leone', 'San Marino', 'Senegal', 'Somalia', 'Suriname', 'South Sudan', 'São Tomé and Príncipe', 'El Salvador', 'Sint Maarten', 'Syria', 'Swaziland', 'Turks and Caicos Islands', 'Chad', 'French Southern Territories', 'Togo', 'Thailand', 'Tajikistan', 'Tokelau', 'East Timor', 'Turkmenistan', 'Tunisia', 'Tonga', 'Turkey', 'Trinidad and Tobago', 'Tuvalu', 'Taiwan', 'Tanzania', 'Ukraine', 'Uganda', 'U.S. Minor Outlying Islands', 'United States', 'Uruguay', 'Uzbekistan', 'Vatican City', 'Saint Vincent and the Grenadines', 'Venezuela', 'British Virgin Islands', 'U.S. Virgin Islands', 'Vietnam', 'Vanuatu', 'Wallis and Futuna', 'Samoa', 'Kosovo', 'Yemen', 'Mayotte', 'South Africa', 'Zambia', 'Zimbabwe']\n"
     ]
    }
   ],
   "source": [
    "from selenium import webdriver\n",
    "from selenium.webdriver.common.by import By  \n",
    "import time\n",
    "\n",
    "# Initialize the Chrome WebDriver\n",
    "driver = webdriver.Chrome()\n",
    "\n",
    "# Open the URL in the browser\n",
    "driver.get(\"https://www.scrapethissite.com/pages/simple/\")\n",
    "\n",
    "country_name = driver.find_elements(By.XPATH, \"//h3[@class = 'country-name']\")\n",
    "\n",
    "\n",
    "country_list = []\n",
    "for i in range(len(country_name)):\n",
    "    country = country_name[i].text\n",
    "    country_list.append(country)\n",
    "print(country_list)\n"
   ]
  },
  {
   "cell_type": "code",
   "execution_count": 5,
   "metadata": {},
   "outputs": [
    {
     "name": "stdout",
     "output_type": "stream",
     "text": [
      "['84000', '4975593', '29121286', '86754', '13254', '2986952', '2968000', '13068161', '0', '41343201', '57881', '8205000', '21515754', '71566', '26711', '8303512', '4590000', '285653', '156118464', '10403000', '16241811', '7148785', '738004', '9863117', '9056010', '8450', '65365', '395027', '9947418', '18012', '201103330', '301790', '699847', '0', '2029307', '9685000', '314522', '33679000', '628', '70916439', '4844927', '3039126', '7581000', '21058798', '21388', '16746491', '19294149', '1330044000', '47790000', '4516220', '11423000', '508659', '141766', '1500', '1102677', '10476000', '81802257', '740528', '5484000', '72813', '9823821', '34586184', '14790608', '1291170', '80471869', '273008', '5792984', '46505963', '88013491', '5244000', '875983', '2638', '107708', '48228', '64768389', '1545255', '62348447', '107818', '4630000', '195506', '65228', '24339838', '27884', '56375', '1593256', '10324025', '443000', '1014999', '11000000', '30', '13550440', '159358', '1565126', '748486', '6898686', '0', '7989415', '4491000', '9648924', '9982000', '242968342', '4622917', '7353985', '75049', '1173108018', '4000', '29671605', '76923300', '308910', '60340328', '90812', '2847232', '6407085', '127288000', '40046566', '5776500', '14453680', '92533', '773407', '51134', '22912177', '48422644', '2789132', '44270', '15340000', '6368162', '4125247', '160922', '35000', '21513990', '3685076', '1919552', '2944459', '497538', '2217969', '6461454', '31627428', '32965', '4324000', '666730', '35925', '21281844', '65859', '2062294', '13796354', '53414374', '3086918', '449198', '53883', '432900', '3205060', '9341', '403000', '1294104', '395650', '15447500', '112468855', '28274729', '22061451', '2128471', '216494', '15878271', '1828', '154000000', '5995928', '16645000', '5009150', '28951852', '10065', '2166', '4252277', '2967717', '3410676', '29907003', '270485', '6064515', '99900177', '184404791', '38500000', '7012', '46', '3916632', '3800000', '10676000', '19907', '6375830', '840926', '776948', '21959278', '7344847', '140702000', '11055976', '25731776', '559198', '88340', '35000000', '9828655', '4701069', '7460', '2007000', '2550', '5455000', '5245695', '31477', '12323252', '10112453', '492829', '8260490', '175808', '6052064', '37429', '22198110', '1354051', '20556', '10543464', '140', '6587239', '67089500', '7487489', '1466', '1154625', '4940916', '10589025', '122580', '77804122', '1228691', '10472', '22894384', '41892895', '45415596', '33398682', '0', '310232863', '3477000', '27865738', '921', '104217', '27223228', '21730', '108708', '89571130', '221552', '16025', '192001', '1800000', '23495361', '159042', '49000000', '13460305', '11651858']\n"
     ]
    }
   ],
   "source": [
    "Population_data = driver.find_elements(By.XPATH, \"//span[@class = 'country-population']\")\n",
    "Population_list = []\n",
    "for i in range(len(Population_data)):\n",
    "    Population = Population_data[i].text\n",
    "    Population_list.append(Population)\n",
    "\n",
    "print(Population_list)"
   ]
  },
  {
   "cell_type": "code",
   "execution_count": 6,
   "metadata": {},
   "outputs": [
    {
     "name": "stdout",
     "output_type": "stream",
     "text": [
      "['Andorra la Vella', 'Abu Dhabi', 'Kabul', \"St. John's\", 'The Valley', 'Tirana', 'Yerevan', 'Luanda', 'None', 'Buenos Aires', 'Pago Pago', 'Vienna', 'Canberra', 'Oranjestad', 'Mariehamn', 'Baku', 'Sarajevo', 'Bridgetown', 'Dhaka', 'Brussels', 'Ouagadougou', 'Sofia', 'Manama', 'Bujumbura', 'Porto-Novo', 'Gustavia', 'Hamilton', 'Bandar Seri Begawan', 'Sucre', 'Kralendijk', 'Brasília', 'Nassau', 'Thimphu', 'None', 'Gaborone', 'Minsk', 'Belmopan', 'Ottawa', 'West Island', 'Kinshasa', 'Bangui', 'Brazzaville', 'Bern', 'Yamoussoukro', 'Avarua', 'Santiago', 'Yaoundé', 'Beijing', 'Bogotá', 'San José', 'Havana', 'Praia', 'Willemstad', 'Flying Fish Cove', 'Nicosia', 'Prague', 'Berlin', 'Djibouti', 'Copenhagen', 'Roseau', 'Santo Domingo', 'Algiers', 'Quito', 'Tallinn', 'Cairo', 'Laâyoune / El Aaiún', 'Asmara', 'Madrid', 'Addis Ababa', 'Helsinki', 'Suva', 'Stanley', 'Palikir', 'Tórshavn', 'Paris', 'Libreville', 'London', \"St. George's\", 'Tbilisi', 'Cayenne', 'St Peter Port', 'Accra', 'Gibraltar', 'Nuuk', 'Bathurst', 'Conakry', 'Basse-Terre', 'Malabo', 'Athens', 'Grytviken', 'Guatemala City', 'Hagåtña', 'Bissau', 'Georgetown', 'Hong Kong', 'None', 'Tegucigalpa', 'Zagreb', 'Port-au-Prince', 'Budapest', 'Jakarta', 'Dublin', 'None', 'Douglas', 'New Delhi', 'None', 'Baghdad', 'Tehran', 'Reykjavik', 'Rome', 'Saint Helier', 'Kingston', 'Amman', 'Tokyo', 'Nairobi', 'Bishkek', 'Phnom Penh', 'Tarawa', 'Moroni', 'Basseterre', 'Pyongyang', 'Seoul', 'Kuwait City', 'George Town', 'Astana', 'Vientiane', 'Beirut', 'Castries', 'Vaduz', 'Colombo', 'Monrovia', 'Maseru', 'Vilnius', 'Luxembourg', 'Riga', 'Tripoli', 'Rabat', 'Monaco', 'Chişinău', 'Podgorica', 'Marigot', 'Antananarivo', 'Majuro', 'Skopje', 'Bamako', 'Naypyitaw', 'Ulan Bator', 'Macao', 'Saipan', 'Fort-de-France', 'Nouakchott', 'Plymouth', 'Valletta', 'Port Louis', 'Malé', 'Lilongwe', 'Mexico City', 'Kuala Lumpur', 'Maputo', 'Windhoek', 'Noumea', 'Niamey', 'Kingston', 'Abuja', 'Managua', 'Amsterdam', 'Oslo', 'Kathmandu', 'Yaren', 'Alofi', 'Wellington', 'Muscat', 'Panama City', 'Lima', 'Papeete', 'Port Moresby', 'Manila', 'Islamabad', 'Warsaw', 'Saint-Pierre', 'Adamstown', 'San Juan', 'None', 'Lisbon', 'Melekeok', 'Asunción', 'Doha', 'Saint-Denis', 'Bucharest', 'Belgrade', 'Moscow', 'Kigali', 'Riyadh', 'Honiara', 'Victoria', 'Khartoum', 'Stockholm', 'Singapore', 'Jamestown', 'Ljubljana', 'Longyearbyen', 'Bratislava', 'Freetown', 'San Marino', 'Dakar', 'Mogadishu', 'Paramaribo', 'Juba', 'São Tomé', 'San Salvador', 'Philipsburg', 'Damascus', 'Mbabane', 'Cockburn Town', \"N'Djamena\", 'Port-aux-Français', 'Lomé', 'Bangkok', 'Dushanbe', 'None', 'Dili', 'Ashgabat', 'Tunis', \"Nuku'alofa\", 'Ankara', 'Port of Spain', 'Funafuti', 'Taipei', 'Dodoma', 'Kiev', 'Kampala', 'None', 'Washington', 'Montevideo', 'Tashkent', 'Vatican City', 'Kingstown', 'Caracas', 'Road Town', 'Charlotte Amalie', 'Hanoi', 'Port Vila', 'Mata-Utu', 'Apia', 'Pristina', 'Sanaa', 'Mamoudzou', 'Pretoria', 'Lusaka', 'Harare']\n"
     ]
    }
   ],
   "source": [
    "Capital_Data = driver.find_elements(By.XPATH, \"//span[@class = 'country-capital']\")\n",
    "Capital_list = []\n",
    "for i in range(len(Capital_Data)):\n",
    "    capital = Capital_Data[i].text\n",
    "    Capital_list.append(capital)\n",
    "\n",
    "print(Capital_list)"
   ]
  },
  {
   "cell_type": "code",
   "execution_count": 7,
   "metadata": {},
   "outputs": [
    {
     "name": "stdout",
     "output_type": "stream",
     "text": [
      "['468.0', '82880.0', '647500.0', '443.0', '102.0', '28748.0', '29800.0', '1246700.0', '1.4E7', '2766890.0', '199.0', '83858.0', '7686850.0', '193.0', '1580.0', '86600.0', '51129.0', '431.0', '144000.0', '30510.0', '274200.0', '110910.0', '665.0', '27830.0', '112620.0', '21.0', '53.0', '5770.0', '1098580.0', '328.0', '8511965.0', '13940.0', '47000.0', '49.0', '600370.0', '207600.0', '22966.0', '9984670.0', '14.0', '2345410.0', '622984.0', '342000.0', '41290.0', '322460.0', '240.0', '756950.0', '475440.0', '9596960.0', '1138910.0', '51100.0', '110860.0', '4033.0', '444.0', '135.0', '9250.0', '78866.0', '357021.0', '23000.0', '43094.0', '754.0', '48730.0', '2381740.0', '283560.0', '45226.0', '1001450.0', '266000.0', '121320.0', '504782.0', '1127127.0', '337030.0', '18270.0', '12173.0', '702.0', '1399.0', '547030.0', '267667.0', '244820.0', '344.0', '69700.0', '91000.0', '78.0', '239460.0', '6.5', '2166086.0', '11300.0', '245857.0', '1780.0', '28051.0', '131940.0', '3903.0', '108890.0', '549.0', '36120.0', '214970.0', '1092.0', '412.0', '112090.0', '56542.0', '27750.0', '93030.0', '1919440.0', '70280.0', '20770.0', '572.0', '3287590.0', '60.0', '437072.0', '1648000.0', '103000.0', '301230.0', '116.0', '10991.0', '92300.0', '377835.0', '582650.0', '198500.0', '181040.0', '811.0', '2170.0', '261.0', '120540.0', '98480.0', '17820.0', '262.0', '2717300.0', '236800.0', '10400.0', '616.0', '160.0', '65610.0', '111370.0', '30355.0', '65200.0', '2586.0', '64589.0', '1759540.0', '446550.0', '1.95', '33843.0', '14026.0', '53.0', '587040.0', '181.3', '25333.0', '1240000.0', '678500.0', '1565000.0', '254.0', '477.0', '1100.0', '1030700.0', '102.0', '316.0', '2040.0', '300.0', '118480.0', '1972550.0', '329750.0', '801590.0', '825418.0', '19060.0', '1267000.0', '34.6', '923768.0', '129494.0', '41526.0', '324220.0', '140800.0', '21.0', '260.0', '268680.0', '212460.0', '78200.0', '1285220.0', '4167.0', '462840.0', '300000.0', '803940.0', '312685.0', '242.0', '47.0', '9104.0', '5970.0', '92391.0', '458.0', '406750.0', '11437.0', '2517.0', '237500.0', '88361.0', '1.71E7', '26338.0', '1960582.0', '28450.0', '455.0', '1861484.0', '449964.0', '692.7', '410.0', '20273.0', '62049.0', '48845.0', '71740.0', '61.2', '196190.0', '637657.0', '163270.0', '644329.0', '1001.0', '21040.0', '21.0', '185180.0', '17363.0', '430.0', '1284000.0', '7829.0', '56785.0', '514000.0', '143100.0', '10.0', '15007.0', '488100.0', '163610.0', '748.0', '780580.0', '5128.0', '26.0', '35980.0', '945087.0', '603700.0', '236040.0', '0.0', '9629091.0', '176220.0', '447400.0', '0.44', '389.0', '912050.0', '153.0', '352.0', '329560.0', '12200.0', '274.0', '2944.0', '10908.0', '527970.0', '374.0', '1219912.0', '752614.0', '390580.0']\n"
     ]
    }
   ],
   "source": [
    "area_Data = driver.find_elements(By.XPATH, \"//span[@class = 'country-area']\")\n",
    "area_list = []\n",
    "for i in range(len(area_Data)):\n",
    "    area = area_Data[i].text\n",
    "    area_list.append(area)\n",
    "\n",
    "print(area_list)"
   ]
  },
  {
   "cell_type": "code",
   "execution_count": 8,
   "metadata": {},
   "outputs": [
    {
     "name": "stdout",
     "output_type": "stream",
     "text": [
      "Requirement already satisfied: pandas in c:\\users\\hp\\appdata\\local\\programs\\python\\python312\\lib\\site-packages (2.2.3)\n",
      "Requirement already satisfied: numpy>=1.26.0 in c:\\users\\hp\\appdata\\local\\programs\\python\\python312\\lib\\site-packages (from pandas) (2.1.2)\n",
      "Requirement already satisfied: python-dateutil>=2.8.2 in c:\\users\\hp\\appdata\\local\\programs\\python\\python312\\lib\\site-packages (from pandas) (2.9.0.post0)\n",
      "Requirement already satisfied: pytz>=2020.1 in c:\\users\\hp\\appdata\\local\\programs\\python\\python312\\lib\\site-packages (from pandas) (2024.2)\n",
      "Requirement already satisfied: tzdata>=2022.7 in c:\\users\\hp\\appdata\\local\\programs\\python\\python312\\lib\\site-packages (from pandas) (2024.2)\n",
      "Requirement already satisfied: six>=1.5 in c:\\users\\hp\\appdata\\local\\programs\\python\\python312\\lib\\site-packages (from python-dateutil>=2.8.2->pandas) (1.16.0)\n",
      "Note: you may need to restart the kernel to use updated packages.\n"
     ]
    },
    {
     "name": "stderr",
     "output_type": "stream",
     "text": [
      "\n",
      "[notice] A new release of pip is available: 24.0 -> 24.2\n",
      "[notice] To update, run: python.exe -m pip install --upgrade pip\n"
     ]
    }
   ],
   "source": [
    "pip install pandas"
   ]
  },
  {
   "cell_type": "code",
   "execution_count": 33,
   "metadata": {},
   "outputs": [
    {
     "data": {
      "text/html": [
       "<div>\n",
       "<style scoped>\n",
       "    .dataframe tbody tr th:only-of-type {\n",
       "        vertical-align: middle;\n",
       "    }\n",
       "\n",
       "    .dataframe tbody tr th {\n",
       "        vertical-align: top;\n",
       "    }\n",
       "\n",
       "    .dataframe thead th {\n",
       "        text-align: right;\n",
       "    }\n",
       "</style>\n",
       "<table border=\"1\" class=\"dataframe\">\n",
       "  <thead>\n",
       "    <tr style=\"text-align: right;\">\n",
       "      <th></th>\n",
       "      <th>Country_Name</th>\n",
       "      <th>Population</th>\n",
       "      <th>Capital</th>\n",
       "      <th>Area</th>\n",
       "    </tr>\n",
       "  </thead>\n",
       "  <tbody>\n",
       "    <tr>\n",
       "      <th>0</th>\n",
       "      <td>Andorra</td>\n",
       "      <td>84000</td>\n",
       "      <td>Andorra la Vella</td>\n",
       "      <td>468.0</td>\n",
       "    </tr>\n",
       "    <tr>\n",
       "      <th>1</th>\n",
       "      <td>United Arab Emirates</td>\n",
       "      <td>4975593</td>\n",
       "      <td>Abu Dhabi</td>\n",
       "      <td>82880.0</td>\n",
       "    </tr>\n",
       "    <tr>\n",
       "      <th>2</th>\n",
       "      <td>Afghanistan</td>\n",
       "      <td>29121286</td>\n",
       "      <td>Kabul</td>\n",
       "      <td>647500.0</td>\n",
       "    </tr>\n",
       "    <tr>\n",
       "      <th>3</th>\n",
       "      <td>Antigua and Barbuda</td>\n",
       "      <td>86754</td>\n",
       "      <td>St. John's</td>\n",
       "      <td>443.0</td>\n",
       "    </tr>\n",
       "    <tr>\n",
       "      <th>4</th>\n",
       "      <td>Anguilla</td>\n",
       "      <td>13254</td>\n",
       "      <td>The Valley</td>\n",
       "      <td>102.0</td>\n",
       "    </tr>\n",
       "    <tr>\n",
       "      <th>...</th>\n",
       "      <td>...</td>\n",
       "      <td>...</td>\n",
       "      <td>...</td>\n",
       "      <td>...</td>\n",
       "    </tr>\n",
       "    <tr>\n",
       "      <th>245</th>\n",
       "      <td>Yemen</td>\n",
       "      <td>23495361</td>\n",
       "      <td>Sanaa</td>\n",
       "      <td>527970.0</td>\n",
       "    </tr>\n",
       "    <tr>\n",
       "      <th>246</th>\n",
       "      <td>Mayotte</td>\n",
       "      <td>159042</td>\n",
       "      <td>Mamoudzou</td>\n",
       "      <td>374.0</td>\n",
       "    </tr>\n",
       "    <tr>\n",
       "      <th>247</th>\n",
       "      <td>South Africa</td>\n",
       "      <td>49000000</td>\n",
       "      <td>Pretoria</td>\n",
       "      <td>1219912.0</td>\n",
       "    </tr>\n",
       "    <tr>\n",
       "      <th>248</th>\n",
       "      <td>Zambia</td>\n",
       "      <td>13460305</td>\n",
       "      <td>Lusaka</td>\n",
       "      <td>752614.0</td>\n",
       "    </tr>\n",
       "    <tr>\n",
       "      <th>249</th>\n",
       "      <td>Zimbabwe</td>\n",
       "      <td>11651858</td>\n",
       "      <td>Harare</td>\n",
       "      <td>390580.0</td>\n",
       "    </tr>\n",
       "  </tbody>\n",
       "</table>\n",
       "<p>250 rows × 4 columns</p>\n",
       "</div>"
      ],
      "text/plain": [
       "             Country_Name Population           Capital       Area\n",
       "0                 Andorra      84000  Andorra la Vella      468.0\n",
       "1    United Arab Emirates    4975593         Abu Dhabi    82880.0\n",
       "2             Afghanistan   29121286             Kabul   647500.0\n",
       "3     Antigua and Barbuda      86754        St. John's      443.0\n",
       "4                Anguilla      13254        The Valley      102.0\n",
       "..                    ...        ...               ...        ...\n",
       "245                 Yemen   23495361             Sanaa   527970.0\n",
       "246               Mayotte     159042         Mamoudzou      374.0\n",
       "247          South Africa   49000000          Pretoria  1219912.0\n",
       "248                Zambia   13460305            Lusaka   752614.0\n",
       "249              Zimbabwe   11651858            Harare   390580.0\n",
       "\n",
       "[250 rows x 4 columns]"
      ]
     },
     "execution_count": 33,
     "metadata": {},
     "output_type": "execute_result"
    }
   ],
   "source": [
    "import pandas as pd\n",
    "\n",
    "d = {\"Country_Name\":country_list,\"Population\":Population_list,\"Capital\":Capital_list,\"Area\":area_list}\n",
    "dataframe = pd.DataFrame(d)\n",
    "dataframe"
   ]
  }
 ],
 "metadata": {
  "kernelspec": {
   "display_name": "Python 3",
   "language": "python",
   "name": "python3"
  },
  "language_info": {
   "codemirror_mode": {
    "name": "ipython",
    "version": 3
   },
   "file_extension": ".py",
   "mimetype": "text/x-python",
   "name": "python",
   "nbconvert_exporter": "python",
   "pygments_lexer": "ipython3",
   "version": "3.12.4"
  }
 },
 "nbformat": 4,
 "nbformat_minor": 2
}
